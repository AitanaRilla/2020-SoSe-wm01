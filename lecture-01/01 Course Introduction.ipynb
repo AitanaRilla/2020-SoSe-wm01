{
 "cells": [
  {
   "cell_type": "markdown",
   "metadata": {},
   "source": [
    "# WM-01 Bioinformatics\n",
    "\n",
    "- Instructors: Andrew Straw (weeks 1 & 2), Wolfgang Maier (week 3)\n",
    "- Tutor: Yonatan Cohen\n",
    "\n",
    "## Course content\n",
    "\n",
    "  - Basics of Python programming\n",
    "  - Introduction to key data science concepts\n",
    "  - Biological sequence analysis\n",
    "  \n",
    "\n",
    "- [This course on Ilias](\n",
    "https://ilias.uni-freiburg.de/goto.php?target=crs_1691827&client_id=unifreiburg)\n",
    "- [This course on GitHub](https://github.com/strawlab/2020-SoSe-wm01/)"
   ]
  },
  {
   "cell_type": "markdown",
   "metadata": {},
   "source": [
    "## Who am I (what do I know about programming, data science, and bioinformatics)?\n",
    "\n",
    "[strawlab.org](https://strawlab.org/)"
   ]
  },
  {
   "cell_type": "markdown",
   "metadata": {},
   "source": [
    "## Course format\n",
    "\n",
    "This course will be done entirely online. There will be “synchronous” lectures starting at 10:15am each morning and going until 12:00. These will take place in the “Virtual Classroom” on Ilias, implemented with the Big Blue Button software. The exercises will be self-paced and there will be someone  available to discuss with in the afternoons. \n",
    "\n",
    "Everything will be online - no in person attendance will be required (or even possible)."
   ]
  },
  {
   "cell_type": "markdown",
   "metadata": {},
   "source": [
    "## Feedback\n",
    "\n",
    "We would like to make this course as productive as possible for you. Therefore, we encourage any feedback. This can come after the course is over as part of the official Uni Freiburg course feedback. Additionally, we would be happy to get suggestions and ideas as the course is ongoing."
   ]
  },
  {
   "cell_type": "markdown",
   "metadata": {},
   "source": [
    "## Communication with instructors and tutors during the course\n",
    "\n",
    "We have started a chat room on Ilias. For questions, use this, or ask during the lecture. This lets other students see them and learn from the answers. Almost certainly you will not be the only one with a particular question!\n",
    "\n",
    "If you email us, unless the content is very personal, we will re-post the question into the chat room."
   ]
  },
  {
   "cell_type": "markdown",
   "metadata": {},
   "source": [
    "## Team work\n",
    "\n",
    "We highly encourage teamwork during this course! You are welcome to discuss any aspect of the course with your colleagues. If you have any ideas how to better support teamwork, please let us know. "
   ]
  },
  {
   "cell_type": "markdown",
   "metadata": {},
   "source": [
    "## Grading\n",
    "\n",
    "There is a requirement of active participation to pass the course. We will take attendance during the lectures and also verify that you did the exercises. We have a threshold of 80% of events that you must attend to pass."
   ]
  },
  {
   "cell_type": "markdown",
   "metadata": {},
   "source": [
    "## [Ten simple rules for biologists learning to program](https://journals.plos.org/ploscompbiol/article?id=10.1371/journal.pcbi.1005871)"
   ]
  },
  {
   "cell_type": "markdown",
   "metadata": {},
   "source": [
    "## Exercise, day 1\n",
    "\n",
    "To get credit for the exercise today, upload the completed notebook \"Exercise 01.ipynb\". Download it from the course [github repository](https://github.com/strawlab/2020-SoSe-wm01/). You can upload multiple times, but once the deadline passes, you cannot upload anymore."
   ]
  }
 ],
 "metadata": {
  "kernelspec": {
   "display_name": "Python 3",
   "language": "python",
   "name": "python3"
  },
  "language_info": {
   "codemirror_mode": {
    "name": "ipython",
    "version": 3
   },
   "file_extension": ".py",
   "mimetype": "text/x-python",
   "name": "python",
   "nbconvert_exporter": "python",
   "pygments_lexer": "ipython3",
   "version": "3.8.3"
  }
 },
 "nbformat": 4,
 "nbformat_minor": 4
}
